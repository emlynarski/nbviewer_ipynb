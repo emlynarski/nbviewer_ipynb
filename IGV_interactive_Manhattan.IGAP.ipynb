{
 "cells": [
  {
   "cell_type": "markdown",
   "metadata": {},
   "source": [
    "# IGV Jupyter: interactive GWAS viz"
   ]
  },
  {
   "cell_type": "code",
   "execution_count": 1,
   "metadata": {
    "jupyter": {
     "source_hidden": true
    }
   },
   "outputs": [
    {
     "data": {
      "application/vnd.jupyter.widget-view+json": {
       "model_id": "3a338f1d4142468fa38f768511c89096",
       "version_major": 2,
       "version_minor": 0
      },
      "text/plain": [
       "IGV(id='igv_2405700', initialConfig={'id': 'igv_2405700', 'locus': '', 'reference': {'name': 'Human (CRCh37/hg…"
      ]
     },
     "metadata": {},
     "output_type": "display_data"
    }
   ],
   "source": [
    "from igv_jupyterlab import IGV\n",
    "\n",
    "\n",
    "genome = IGV.create_genome(\n",
    "    name=\"Human (CRCh37/hg19)\",\n",
    "    fasta_url=\"https://s3.amazonaws.com/igv.broadinstitute.org/genomes/seq/hg19/hg19.fasta\",\n",
    "    index_url=\"https://s3.amazonaws.com/igv.broadinstitute.org/genomes/seq/hg19/hg19.fasta.fai\",\n",
    "    cytoband_url=\"https://s3.amazonaws.com/igv.broadinstitute.org/genomes/seq/hg19/cytoBand.txt\",\n",
    "    tracks=[\n",
    "        {\n",
    "            \"name\":\"Refseq Genes\",\n",
    "            \"url\":\"https://s3.amazonaws.com/igv.org.genomes/hg19/ncbiRefGene.txt.gz\",\n",
    "            \"order\": 2,\n",
    "            \"indexed\": False\n",
    "        },  \n",
    "        {\n",
    "            \"name\": \"IGAP GWAS\",\n",
    "            \"type\": \"gwas\",\n",
    "            \"format\": \"gwas\", \n",
    "            \"url\": \"https://www.dropbox.com/s/jl7ly0ddn3jjc6p/test_kunkle_etal_stage1_results_filter_sort4.tsv?dl=0\",\n",
    "            \"indexed\": False, \n",
    "            \"columns\": {\n",
    "              \"chromosome\": 1,\n",
    "              \"position\": 2,\n",
    "              \"value\": 3\n",
    "            },\n",
    "            \"dotSize\": 2.2, \n",
    "            \"autoHeight\":True, \n",
    "            \"maxHeight\":400, \n",
    "            \"height\":300, \n",
    "            \"order\":1\n",
    "        }\n",
    "    ]\n",
    ")\n",
    "\n",
    "\n",
    "igv = IGV(genome=genome)\n",
    "\n",
    "display(igv)"
   ]
  }
 ],
 "metadata": {
  "kernelspec": {
   "display_name": "Python 3",
   "language": "python",
   "name": "python3"
  },
  "language_info": {
   "codemirror_mode": {
    "name": "ipython",
    "version": 3
   },
   "file_extension": ".py",
   "mimetype": "text/x-python",
   "name": "python",
   "nbconvert_exporter": "python",
   "pygments_lexer": "ipython3",
   "version": "3.8.3"
  },
  "widgets": {
   "application/vnd.jupyter.widget-state+json": {
    "state": {
     "26714c012dc4476ab17850ce29205b7a": {
      "model_module": "@jupyter-widgets/base",
      "model_module_version": "1.2.0",
      "model_name": "LayoutModel",
      "state": {}
     },
     "3a338f1d4142468fa38f768511c89096": {
      "model_module": "@epi2melabs/igv-jupyterlab",
      "model_module_version": "^2.0.4",
      "model_name": "IGVModel",
      "state": {
       "_model_module_version": "^2.0.4",
       "_view_module_version": "^2.0.4",
       "id": "igv_2405700",
       "initialConfig": {
        "flanking": 1000,
        "id": "igv_2405700",
        "locus": "",
        "minimumBases": 40,
        "pairsSupported": true,
        "promisified": false,
        "reference": {
         "cytobandURL": "https://s3.amazonaws.com/igv.broadinstitute.org/genomes/seq/hg19/cytoBand.txt",
         "fastaURL": "https://s3.amazonaws.com/igv.broadinstitute.org/genomes/seq/hg19/hg19.fasta",
         "indexURL": "https://s3.amazonaws.com/igv.broadinstitute.org/genomes/seq/hg19/hg19.fasta.fai",
         "name": "Human (CRCh37/hg19)",
         "tracks": [
          {
           "format": "refgene",
           "indexed": false,
           "name": "Refseq Genes",
           "order": 2,
           "url": "https://s3.amazonaws.com/igv.org.genomes/hg19/ncbiRefGene.txt.gz"
          },
          {
           "autoHeight": true,
           "columns": {
            "chromosome": 1,
            "position": 2,
            "value": 3
           },
           "dotSize": 2.2,
           "format": "gwas",
           "height": 300,
           "indexed": false,
           "maxHeight": 400,
           "name": "IGAP GWAS",
           "order": 1,
           "type": "gwas",
           "url": "https://www.dropbox.com/s/jl7ly0ddn3jjc6p/test_kunkle_etal_stage1_results_filter_sort4.tsv?dl=0"
          }
         ]
        },
        "showCenterGuide": false,
        "showCenterGuideButton": true,
        "showChromosomeWidget": true,
        "showControls": true,
        "showCursorTrackingGuide": false,
        "showCursorTrackingGuideButton": true,
        "showIdeogram": true,
        "showNavigation": true,
        "showRuler": true,
        "showSVGButton": true,
        "showTrackLabelButton": true,
        "showTrackLabels": true,
        "tracks": [
         {
          "order": -900719925474.0991,
          "type": "sequence"
         }
        ]
       },
       "layout": "IPY_MODEL_26714c012dc4476ab17850ce29205b7a",
       "locus": "",
       "svg": ""
      }
     }
    },
    "version_major": 2,
    "version_minor": 0
   }
  }
 },
 "nbformat": 4,
 "nbformat_minor": 4
}
